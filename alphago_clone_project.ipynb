{
  "nbformat": 4,
  "nbformat_minor": 0,
  "metadata": {
    "colab": {
      "provenance": [],
      "machine_shape": "hm",
      "gpuType": "T4",
      "authorship_tag": "ABX9TyMyFct9rzcK8u4be/aKPa9f",
      "include_colab_link": true
    },
    "kernelspec": {
      "name": "python3",
      "display_name": "Python 3"
    },
    "language_info": {
      "name": "python"
    },
    "accelerator": "GPU"
  },
  "cells": [
    {
      "cell_type": "markdown",
      "metadata": {
        "id": "view-in-github",
        "colab_type": "text"
      },
      "source": [
        "<a href=\"https://colab.research.google.com/github/gitHubAndyLee2020/Monte_Carlo_Go_Agent/blob/main/alphago_clone_project.ipynb\" target=\"_parent\"><img src=\"https://colab.research.google.com/assets/colab-badge.svg\" alt=\"Open In Colab\"/></a>"
      ]
    },
    {
      "cell_type": "markdown",
      "source": [
        "### AlphaGo Clone Project"
      ],
      "metadata": {
        "id": "CSzTQxDbRwLc"
      }
    },
    {
      "cell_type": "markdown",
      "source": [
        "###### Installations"
      ],
      "metadata": {
        "id": "jDKVQv-7Xk8z"
      }
    },
    {
      "cell_type": "code",
      "execution_count": null,
      "metadata": {
        "colab": {
          "base_uri": "https://localhost:8080/"
        },
        "id": "ktU18IIuRoUw",
        "outputId": "fdc07f48-7271-4649-d034-7e56907eab92"
      },
      "outputs": [
        {
          "output_type": "stream",
          "name": "stdout",
          "text": [
            "Cloning into 'GymGo'...\n",
            "remote: Enumerating objects: 917, done.\u001b[K\n",
            "remote: Counting objects: 100% (208/208), done.\u001b[K\n",
            "remote: Compressing objects: 100% (78/78), done.\u001b[K\n",
            "remote: Total 917 (delta 130), reused 189 (delta 130), pack-reused 709\u001b[K\n",
            "Receiving objects: 100% (917/917), 457.37 KiB | 973.00 KiB/s, done.\n",
            "Resolving deltas: 100% (555/555), done.\n"
          ]
        }
      ],
      "source": [
        "!git clone https://github.com/aigagror/GymGo.git"
      ]
    },
    {
      "cell_type": "code",
      "source": [
        "!pip install pyglet"
      ],
      "metadata": {
        "colab": {
          "base_uri": "https://localhost:8080/"
        },
        "id": "GRoapLN_R4rj",
        "outputId": "d1cee34c-226b-4ddf-f4dd-749a7dd3eb00"
      },
      "execution_count": null,
      "outputs": [
        {
          "output_type": "stream",
          "name": "stderr",
          "text": [
            "/usr/local/lib/python3.10/dist-packages/ipykernel/ipkernel.py:283: DeprecationWarning: `should_run_async` will not call `transform_cell` automatically in the future. Please pass the result to `transformed_cell` argument and any exception that happen during thetransform in `preprocessing_exc_tuple` in IPython 7.17 and above.\n",
            "  and should_run_async(code)\n"
          ]
        },
        {
          "output_type": "stream",
          "name": "stdout",
          "text": [
            "Collecting pyglet\n",
            "  Downloading pyglet-2.0.9-py3-none-any.whl (854 kB)\n",
            "\u001b[2K     \u001b[90m━━━━━━━━━━━━━━━━━━━━━━━━━━━━━━━━━━━━━━\u001b[0m \u001b[32m854.7/854.7 kB\u001b[0m \u001b[31m16.3 MB/s\u001b[0m eta \u001b[36m0:00:00\u001b[0m\n",
            "\u001b[?25hInstalling collected packages: pyglet\n",
            "Successfully installed pyglet-2.0.9\n"
          ]
        }
      ]
    },
    {
      "cell_type": "markdown",
      "source": [
        "###### Environment Demo"
      ],
      "metadata": {
        "id": "yz6wfo_gXqAz"
      }
    },
    {
      "cell_type": "code",
      "source": [
        "import sys\n",
        "sys.path.append('/content/GymGo')"
      ],
      "metadata": {
        "id": "RXpcWT6DSGO-"
      },
      "execution_count": null,
      "outputs": []
    },
    {
      "cell_type": "code",
      "source": [
        "import gym\n",
        "\n",
        "DIM = 7\n",
        "\n",
        "go_env = gym.make('gym_go:go-v0', size=DIM, komi=0, reward_method='real')\n",
        "\n",
        "go_env.reset()\n",
        "go_env.render('terminal')\n",
        "\n",
        "first_action = (2,5)\n",
        "state, reward, done, info = go_env.step(first_action)\n",
        "go_env.render('terminal')"
      ],
      "metadata": {
        "colab": {
          "base_uri": "https://localhost:8080/"
        },
        "id": "pkFFH419SCZG",
        "outputId": "785d531e-c623-4be1-aa78-789af7e4c674"
      },
      "execution_count": 101,
      "outputs": [
        {
          "output_type": "stream",
          "name": "stdout",
          "text": [
            "\t0 1 2 3 4 5 6 \n",
            "0\t╔═╤═╤═╤═╤═╤═╗\n",
            "1\t╟─┼─┼─┼─┼─┼─╢\n",
            "2\t╟─┼─┼─┼─┼─┼─╢\n",
            "3\t╟─┼─┼─┼─┼─┼─╢\n",
            "4\t╟─┼─┼─┼─┼─┼─╢\n",
            "5\t╟─┼─┼─┼─┼─┼─╢\n",
            "6\t╚═╧═╧═╧═╧═╧═╝\n",
            "\tTurn: BLACK, Game State (ONGOING|PASSED|END): ONGOING\n",
            "\tBlack Area: 0, White Area: 0\n",
            "\n",
            "\t0 1 2 3 4 5 6 \n",
            "0\t╔═╤═╤═╤═╤═╤═╗\n",
            "1\t╟─┼─┼─┼─┼─┼─╢\n",
            "2\t╟─┼─┼─┼─┼─○─╢\n",
            "3\t╟─┼─┼─┼─┼─┼─╢\n",
            "4\t╟─┼─┼─┼─┼─┼─╢\n",
            "5\t╟─┼─┼─┼─┼─┼─╢\n",
            "6\t╚═╧═╧═╧═╧═╧═╝\n",
            "\tTurn: WHITE, Game State (ONGOING|PASSED|END): ONGOING\n",
            "\tBlack Area: 49, White Area: 0\n",
            "\n"
          ]
        },
        {
          "output_type": "stream",
          "name": "stderr",
          "text": [
            "/usr/local/lib/python3.10/dist-packages/gym/utils/passive_env_checker.py:20: UserWarning: \u001b[33mWARN: It seems a Box observation space is an image but the `dtype` is not `np.uint8`, actual type: float32. If the Box observation space is not an image, we recommend flattening the observation to have only a 1D vector.\u001b[0m\n",
            "  logger.warn(\n",
            "/usr/local/lib/python3.10/dist-packages/gym/utils/passive_env_checker.py:25: UserWarning: \u001b[33mWARN: It seems a Box observation space is an image but the upper and lower bounds are not in [0, 255]. Generally, CNN policies assume observations are within that range, so you may encounter an issue if the observation values are not.\u001b[0m\n",
            "  logger.warn(\n",
            "/usr/local/lib/python3.10/dist-packages/gym/core.py:317: DeprecationWarning: \u001b[33mWARN: Initializing wrapper in old step API which returns one bool instead of two. It is recommended to set `new_step_api=True` to use new step API. This will be the default behaviour in future.\u001b[0m\n",
            "  deprecation(\n",
            "/usr/local/lib/python3.10/dist-packages/gym/wrappers/step_api_compatibility.py:39: DeprecationWarning: \u001b[33mWARN: Initializing environment in old step API which returns one bool instead of two. It is recommended to set `new_step_api=True` to use new step API. This will be the default behaviour in future.\u001b[0m\n",
            "  deprecation(\n",
            "/usr/local/lib/python3.10/dist-packages/gym/utils/passive_env_checker.py:174: UserWarning: \u001b[33mWARN: Future gym versions will require that `Env.reset` can be passed a `seed` instead of using `Env.seed` for resetting the environment random number generator.\u001b[0m\n",
            "  logger.warn(\n",
            "/usr/local/lib/python3.10/dist-packages/gym/utils/passive_env_checker.py:190: UserWarning: \u001b[33mWARN: Future gym versions will require that `Env.reset` can be passed `return_info` to return information from the environment resetting.\u001b[0m\n",
            "  logger.warn(\n",
            "/usr/local/lib/python3.10/dist-packages/gym/utils/passive_env_checker.py:195: UserWarning: \u001b[33mWARN: Future gym versions will require that `Env.reset` can be passed `options` to allow the environment initialisation to be passed additional information.\u001b[0m\n",
            "  logger.warn(\n",
            "/usr/local/lib/python3.10/dist-packages/gym/utils/passive_env_checker.py:141: UserWarning: \u001b[33mWARN: The obs returned by the `reset()` method was expecting numpy array dtype to be float32, actual type: float64\u001b[0m\n",
            "  logger.warn(\n",
            "/usr/local/lib/python3.10/dist-packages/gym/utils/passive_env_checker.py:165: UserWarning: \u001b[33mWARN: The obs returned by the `reset()` method is not within the observation space.\u001b[0m\n",
            "  logger.warn(f\"{pre} is not within the observation space.\")\n",
            "/usr/local/lib/python3.10/dist-packages/gym/core.py:43: DeprecationWarning: \u001b[33mWARN: The argument mode in render method is deprecated; use render_mode during environment initialization instead.\n",
            "See here for more information: https://www.gymlibrary.ml/content/api/\u001b[0m\n",
            "  deprecation(\n",
            "/usr/local/lib/python3.10/dist-packages/gym/utils/passive_env_checker.py:280: UserWarning: \u001b[33mWARN: No render modes was declared in the environment (env.metadata['render_modes'] is None or not defined), you may have trouble when calling `.render()`.\u001b[0m\n",
            "  logger.warn(\n",
            "/content/GymGo/gym_go/gogame.py:283: DeprecationWarning: Please use `label` from the `scipy.ndimage` namespace, the `scipy.ndimage.measurements` namespace is deprecated.\n",
            "  empty_labels, num_empty_areas = ndimage.measurements.label(empties)\n",
            "/content/GymGo/gym_go/state_utils.py:166: DeprecationWarning: Please use `label` from the `scipy.ndimage` namespace, the `scipy.ndimage.measurements` namespace is deprecated.\n",
            "  all_opp_groups, _ = ndimage.measurements.label(state[opponent])\n",
            "/usr/local/lib/python3.10/dist-packages/gym/utils/passive_env_checker.py:227: DeprecationWarning: \u001b[33mWARN: Core environment is written in old step API which returns one bool instead of two. It is recommended to rewrite the environment with new step API. \u001b[0m\n",
            "  logger.deprecation(\n",
            "/usr/local/lib/python3.10/dist-packages/gym/utils/passive_env_checker.py:234: UserWarning: \u001b[33mWARN: Expects `done` signal to be a boolean, actual type: <class 'int'>\u001b[0m\n",
            "  logger.warn(\n",
            "/usr/local/lib/python3.10/dist-packages/gym/utils/passive_env_checker.py:141: UserWarning: \u001b[33mWARN: The obs returned by the `step()` method was expecting numpy array dtype to be float32, actual type: float64\u001b[0m\n",
            "  logger.warn(\n",
            "/usr/local/lib/python3.10/dist-packages/gym/utils/passive_env_checker.py:165: UserWarning: \u001b[33mWARN: The obs returned by the `step()` method is not within the observation space.\u001b[0m\n",
            "  logger.warn(f\"{pre} is not within the observation space.\")\n"
          ]
        }
      ]
    },
    {
      "cell_type": "code",
      "source": [
        "# Get turn; 0 for white, 1 for black\n",
        "turn = go_env.turn()\n",
        "# Check if game has ended; 0 for not ended, 1 for ended\n",
        "game_ended = go_env.game_ended()\n",
        "# Get the winner of the game; 1 if BLACK is winner, -1 if WHITE is winner\n",
        "winner = go_env.winner()\n",
        "# Get the list of valid moves; given as DIMxDIM numpy array, 0. for not valid move, 1. for valid move\n",
        "valid_moves = go_env.valid_moves()\n",
        "# Get a random action as an index of the valid moves above\n",
        "random_action = go_env.uniform_random_action()\n",
        "# More methods at https://github.com/aigagror/GymGo/blob/master/gym_go/envs/go_env.py\n",
        "\n",
        "print(f\"turn: {turn}\")\n",
        "print(f\"game_ended: {game_ended}\")\n",
        "print(f\"winner: {winner}\")\n",
        "print(f\"valid_moves: {valid_moves}\")\n",
        "print(f\"random_action: {random_action}\")"
      ],
      "metadata": {
        "colab": {
          "base_uri": "https://localhost:8080/"
        },
        "id": "4D2FqMFEVQsL",
        "outputId": "f8bed912-0512-42d8-aa94-d8ed829a7d9c"
      },
      "execution_count": 102,
      "outputs": [
        {
          "output_type": "stream",
          "name": "stdout",
          "text": [
            "turn: 1\n",
            "game_ended: 0\n",
            "winner: 0\n",
            "valid_moves: [1. 1. 1. 1. 1. 1. 1. 1. 1. 1. 1. 1. 1. 1. 1. 1. 1. 1. 1. 0. 1. 1. 1. 1.\n",
            " 1. 1. 1. 1. 1. 1. 1. 1. 1. 1. 1. 1. 1. 1. 1. 1. 1. 1. 1. 1. 1. 1. 1. 1.\n",
            " 1. 1.]\n",
            "random_action: 42\n"
          ]
        }
      ]
    },
    {
      "cell_type": "code",
      "source": [
        "# Get a numpy array of all valid actions\n",
        "valid_moves = go_env.valid_moves()\n",
        "valid_move_idcs = np.argwhere(valid_moves).flatten()\n",
        "valid_move_idcs"
      ],
      "metadata": {
        "colab": {
          "base_uri": "https://localhost:8080/"
        },
        "id": "AdzwteLcbfAw",
        "outputId": "1ac8973c-1bd0-4b53-f5cb-d993aef762c8"
      },
      "execution_count": 103,
      "outputs": [
        {
          "output_type": "execute_result",
          "data": {
            "text/plain": [
              "array([ 0,  1,  2,  3,  4,  5,  6,  7,  8,  9, 10, 11, 12, 13, 14, 15, 16,\n",
              "       17, 18, 20, 21, 22, 23, 24, 25, 26, 27, 28, 29, 30, 31, 32, 33, 34,\n",
              "       35, 36, 37, 38, 39, 40, 41, 42, 43, 44, 45, 46, 47, 48, 49])"
            ]
          },
          "metadata": {},
          "execution_count": 103
        }
      ]
    },
    {
      "cell_type": "code",
      "source": [
        "import copy\n",
        "\n",
        "# Deep-copying the environment\n",
        "copied_env = copy.deepcopy(go_env)\n",
        "print('=== Copied Env ===')\n",
        "copied_env.render('terminal')\n",
        "\n",
        "second_move = (5, 2)\n",
        "copied_env.step(second_move)\n",
        "print('=== Copied Env (After Move) ===')\n",
        "copied_env.render('terminal')\n",
        "print('=== Original Env ===')\n",
        "go_env.render('terminal')"
      ],
      "metadata": {
        "colab": {
          "base_uri": "https://localhost:8080/"
        },
        "id": "ICX6EJ0pgB55",
        "outputId": "a05dd529-60e0-47d1-d40e-1d03d39e15a2"
      },
      "execution_count": 124,
      "outputs": [
        {
          "output_type": "stream",
          "name": "stdout",
          "text": [
            "=== Copied Env ===\n",
            "\t0 1 2 3 4 5 6 \n",
            "0\t╔═╤═╤═╤═╤═╤═╗\n",
            "1\t╟─┼─┼─┼─┼─┼─╢\n",
            "2\t╟─┼─┼─┼─┼─○─╢\n",
            "3\t╟─┼─┼─┼─┼─┼─╢\n",
            "4\t╟─┼─┼─┼─┼─┼─╢\n",
            "5\t╟─┼─┼─┼─┼─┼─╢\n",
            "6\t╚═╧═╧═╧═╧═╧═╝\n",
            "\tTurn: WHITE, Game State (ONGOING|PASSED|END): ONGOING\n",
            "\tBlack Area: 49, White Area: 0\n",
            "\n",
            "=== Copied Env (After Move) ===\n",
            "\t0 1 2 3 4 5 6 \n",
            "0\t╔═╤═╤═╤═╤═╤═╗\n",
            "1\t╟─┼─┼─┼─┼─┼─╢\n",
            "2\t╟─┼─┼─┼─┼─○─╢\n",
            "3\t╟─┼─┼─┼─┼─┼─╢\n",
            "4\t╟─┼─┼─┼─┼─┼─╢\n",
            "5\t╟─┼─●─┼─┼─┼─╢\n",
            "6\t╚═╧═╧═╧═╧═╧═╝\n",
            "\tTurn: BLACK, Game State (ONGOING|PASSED|END): ONGOING\n",
            "\tBlack Area: 1, White Area: 1\n",
            "\n",
            "=== Original Env ===\n",
            "\t0 1 2 3 4 5 6 \n",
            "0\t╔═╤═╤═╤═╤═╤═╗\n",
            "1\t╟─┼─┼─┼─┼─┼─╢\n",
            "2\t╟─┼─┼─┼─┼─○─╢\n",
            "3\t╟─┼─┼─┼─┼─┼─╢\n",
            "4\t╟─┼─┼─┼─┼─┼─╢\n",
            "5\t╟─┼─┼─┼─┼─┼─╢\n",
            "6\t╚═╧═╧═╧═╧═╧═╝\n",
            "\tTurn: WHITE, Game State (ONGOING|PASSED|END): ONGOING\n",
            "\tBlack Area: 49, White Area: 0\n",
            "\n"
          ]
        },
        {
          "output_type": "stream",
          "name": "stderr",
          "text": [
            "/usr/local/lib/python3.10/dist-packages/gym/core.py:43: DeprecationWarning: \u001b[33mWARN: The argument mode in render method is deprecated; use render_mode during environment initialization instead.\n",
            "See here for more information: https://www.gymlibrary.ml/content/api/\u001b[0m\n",
            "  deprecation(\n",
            "/content/GymGo/gym_go/gogame.py:283: DeprecationWarning: Please use `label` from the `scipy.ndimage` namespace, the `scipy.ndimage.measurements` namespace is deprecated.\n",
            "  empty_labels, num_empty_areas = ndimage.measurements.label(empties)\n",
            "/content/GymGo/gym_go/state_utils.py:166: DeprecationWarning: Please use `label` from the `scipy.ndimage` namespace, the `scipy.ndimage.measurements` namespace is deprecated.\n",
            "  all_opp_groups, _ = ndimage.measurements.label(state[opponent])\n"
          ]
        }
      ]
    },
    {
      "cell_type": "markdown",
      "source": [
        "###### Model"
      ],
      "metadata": {
        "id": "azu01cK_XusL"
      }
    },
    {
      "cell_type": "code",
      "source": [
        "def make_go_env():\n",
        "  go_env = gym.make('gym_go:go-v0', size=DIM, komi=0, reward_method='real')\n",
        "  go_env.reset()\n",
        "  return go_env"
      ],
      "metadata": {
        "id": "uK_RitL2hf2K"
      },
      "execution_count": 248,
      "outputs": []
    },
    {
      "cell_type": "code",
      "source": [
        "def get_all_moves(go_env):\n",
        "  valid_moves = go_env.valid_moves()\n",
        "  valid_move_idcs = np.argwhere(valid_moves).flatten()\n",
        "  return valid_move_idcs"
      ],
      "metadata": {
        "id": "nEoCkw4CqSbh"
      },
      "execution_count": 249,
      "outputs": []
    },
    {
      "cell_type": "code",
      "source": [
        "from math import log, sqrt, e, inf\n",
        "import random\n",
        "import copy"
      ],
      "metadata": {
        "id": "-bhMlcCDlC9E"
      },
      "execution_count": 250,
      "outputs": []
    },
    {
      "cell_type": "code",
      "source": [
        "class node():\n",
        "  def __init__(self):\n",
        "    self.state = make_go_env()\n",
        "    self.action = ''\n",
        "    self.children = set()\n",
        "    self.parent = None\n",
        "    self.N = 0\n",
        "    self.n = 0\n",
        "    self.v = 0\n",
        "  def copy_state(self):\n",
        "    return copy.deepcopy(self.state)\n",
        "  def get_all_moves(self):\n",
        "    valid_moves = self.state.valid_moves()\n",
        "    valid_move_idcs = np.argwhere(valid_moves).flatten()\n",
        "    return valid_move_idcs"
      ],
      "metadata": {
        "id": "wLx7UjPiXxif"
      },
      "execution_count": 251,
      "outputs": []
    },
    {
      "cell_type": "code",
      "source": [
        "def ucb1(curr_node):\n",
        "    ans = curr_node.v+2*(sqrt(log(curr_node.N+e+(10**-6))/(curr_node.n+(10**-10))))\n",
        "    return ans"
      ],
      "metadata": {
        "id": "WqRo7VvSYRHS"
      },
      "execution_count": 252,
      "outputs": []
    },
    {
      "cell_type": "code",
      "source": [
        "def rollout(curr_node):\n",
        "  if (curr_node.state.game_ended()):\n",
        "    return (curr_node.state.reward(), curr_node)\n",
        "\n",
        "  # If the game is not over, get list of all possible moves\n",
        "  all_moves = curr_node.get_all_moves()\n",
        "\n",
        "  # Get child node for each possible move\n",
        "  for move in all_moves:\n",
        "    tmp_state = curr_node.copy_state()\n",
        "    tmp_state.step(move)\n",
        "    child = node()\n",
        "    child.state = tmp_state\n",
        "    child.parent = curr_node\n",
        "    curr_node.children.add(child)\n",
        "\n",
        "  # Get a random move\n",
        "  rnd_node = random.choice(list(curr_node.children))\n",
        "\n",
        "  # Uncomment to see the random action tree\n",
        "  # rnd_node.state.render('terminal')\n",
        "\n",
        "  return rollout(rnd_node)"
      ],
      "metadata": {
        "id": "dquOWQ4xa70C"
      },
      "execution_count": 253,
      "outputs": []
    },
    {
      "cell_type": "code",
      "source": [
        "# Test rollout function\n",
        "test_node = node()\n",
        "rollout(test_node)"
      ],
      "metadata": {
        "colab": {
          "base_uri": "https://localhost:8080/"
        },
        "id": "9lHn0fS8d2Ej",
        "outputId": "a5402fc7-a8e9-4713-f7fb-b45f60f84ceb"
      },
      "execution_count": 254,
      "outputs": [
        {
          "output_type": "execute_result",
          "data": {
            "text/plain": [
              "(1.0, <__main__.node at 0x7ba43398ec20>)"
            ]
          },
          "metadata": {},
          "execution_count": 254
        }
      ]
    },
    {
      "cell_type": "code",
      "source": [
        "def expand(curr_node, white):\n",
        "  if (len(curr_node.children) == 0):\n",
        "    return curr_node\n",
        "  max_ucb = -inf\n",
        "  if (white):\n",
        "    idx = -1\n",
        "    max_ucb = -inf\n",
        "    sel_child = None\n",
        "    for i in curr_node.children:\n",
        "      tmp = ucb1(i)\n",
        "      if (tmp > max_ucb):\n",
        "        idx = i\n",
        "        max_ucb = tmp\n",
        "        sel_child = i\n",
        "\n",
        "    return expand(sel_child, 0)\n",
        "\n",
        "  else:\n",
        "    idx = -1\n",
        "    min_ucb = inf\n",
        "    sel_child = None\n",
        "    for i in curr_node.children:\n",
        "      tmp = ucb1(i)\n",
        "      if (tmp < min_ucb):\n",
        "        idx = i\n",
        "        min_ucb = tmp\n",
        "        sel_child = i\n",
        "\n",
        "    return expand(sel_child, 1)"
      ],
      "metadata": {
        "id": "3t4gXw0tjV-I"
      },
      "execution_count": 255,
      "outputs": []
    },
    {
      "cell_type": "code",
      "source": [
        "# Test expand function\n",
        "expand(test_node, 1).state.render('terminal')"
      ],
      "metadata": {
        "colab": {
          "base_uri": "https://localhost:8080/"
        },
        "id": "U6QAbma_jjvi",
        "outputId": "c66bed51-da1c-46ca-d039-2ed1af57a2aa"
      },
      "execution_count": 256,
      "outputs": [
        {
          "output_type": "stream",
          "name": "stdout",
          "text": [
            "\t0 1 2 3 4 5 6 \n",
            "0\t╔═╤═╤═╤═╤═╤═╗\n",
            "1\t╟─┼─┼─┼─┼─┼─╢\n",
            "2\t╟─┼─┼─┼─┼─┼─╢\n",
            "3\t╟─○─┼─┼─┼─┼─╢\n",
            "4\t╟─┼─┼─┼─┼─┼─╢\n",
            "5\t╟─┼─┼─┼─┼─┼─╢\n",
            "6\t╚═╧═╧═╧═╧═╧═╝\n",
            "\tTurn: WHITE, Game State (ONGOING|PASSED|END): ONGOING\n",
            "\tBlack Area: 49, White Area: 0\n",
            "\n"
          ]
        }
      ]
    },
    {
      "cell_type": "code",
      "source": [
        "def rollback(curr_node, reward):\n",
        "  curr_node.n += 1\n",
        "  curr_node.v += reward\n",
        "  while (curr_node.parent != None):\n",
        "    curr_node.N += 1\n",
        "    curr_node = curr_node.parent\n",
        "  return curr_node"
      ],
      "metadata": {
        "id": "9PVvMEMdj2Q0"
      },
      "execution_count": 257,
      "outputs": []
    },
    {
      "cell_type": "code",
      "source": [
        "def mcts_pred(curr_node, over, white, iterations=10):\n",
        "  if (over):\n",
        "    return -1\n",
        "\n",
        "  all_moves = curr_node.get_all_moves()\n",
        "  map_state_move = dict()\n",
        "\n",
        "  for move in all_moves:\n",
        "    tmp_state = curr_node.copy_state()\n",
        "    tmp_state.step(move)\n",
        "    child = node()\n",
        "    child.state = tmp_state\n",
        "    child.parent = curr_node\n",
        "    curr_node.children.add(child)\n",
        "    map_state_move[child] = move\n",
        "\n",
        "  # Expands the tree\n",
        "  while (iterations > 0):\n",
        "    if (white):\n",
        "      idx = -1\n",
        "      max_ucb = -inf\n",
        "      sel_child = None\n",
        "      # Select best child node\n",
        "      for i in curr_node.children:\n",
        "        tmp = ucb1(i)\n",
        "        if (tmp > max_ucb):\n",
        "          idx = i\n",
        "          max_ucb = tmp\n",
        "          sel_child = i\n",
        "      # Go down the tree until leaf node and play until the end of the game\n",
        "      ex_child = expand(sel_child, 0)\n",
        "      reward, state = rollout(ex_child)\n",
        "      curr_node = rollback(state, reward)\n",
        "      iterations -= 1\n",
        "\n",
        "    else:\n",
        "      idx = -1\n",
        "      min_ucb = inf\n",
        "      sel_child = None\n",
        "      for i in curr_node.children:\n",
        "        tmp = ucb1(i)\n",
        "        if (tmp < min_ucb):\n",
        "          idx = i\n",
        "          min_ucb = tmp\n",
        "          sel_child = i\n",
        "\n",
        "      ex_child = expand(sel_child, 1)\n",
        "      reward, state = rollout(ex_child)\n",
        "      curr_node = rollback(state, reward)\n",
        "      iterations -= 1\n",
        "\n",
        "  # Selects the most promising child for the next move\n",
        "  if (white):\n",
        "    mx = -inf\n",
        "    idx = -1\n",
        "    selected_move = ''\n",
        "    for i in (curr_node.children):\n",
        "      tmp = ucb1(i)\n",
        "      if (tmp > mx):\n",
        "        mx = tmp\n",
        "        selected_move = map_state_move[i]\n",
        "    return selected_move\n",
        "\n",
        "  else:\n",
        "    mn = inf\n",
        "    idx = -1\n",
        "    selected_move = ''\n",
        "    for i in (curr_node.children):\n",
        "      tmp = ucb1(i)\n",
        "      if (tmp < mn):\n",
        "        mn = tmp\n",
        "        selected_move = map_state_move[i]\n",
        "    return selected_move"
      ],
      "metadata": {
        "id": "whBK1kDRj4kr"
      },
      "execution_count": 258,
      "outputs": []
    },
    {
      "cell_type": "code",
      "source": [
        "mcts_pred(test_node, 0, 0, 10)"
      ],
      "metadata": {
        "colab": {
          "base_uri": "https://localhost:8080/"
        },
        "id": "t7AK7R1hmAJT",
        "outputId": "3bb21a72-9f4b-43a9-9396-ccd994370f71"
      },
      "execution_count": 259,
      "outputs": [
        {
          "output_type": "execute_result",
          "data": {
            "text/plain": [
              "39"
            ]
          },
          "metadata": {},
          "execution_count": 259
        }
      ]
    },
    {
      "cell_type": "code",
      "source": [
        "# Get Human Move\n",
        "def get_human_move(go_env):\n",
        "  action = -1\n",
        "  all_moves = get_all_moves(go_env)\n",
        "\n",
        "  while True:\n",
        "    print(\"Enter y: -1, x: -1 for pass\")\n",
        "    y = input('y: ')\n",
        "    x = input('x: ')\n",
        "    try:\n",
        "      x = int(x)\n",
        "      y = int(y)\n",
        "      if (x == -1 and y == -1):\n",
        "        return None\n",
        "      action = (y * 7) + x\n",
        "      if (action not in all_moves):\n",
        "        raise ValueError\n",
        "      break\n",
        "    except ValueError:\n",
        "      print('Invalid move')\n",
        "  return action"
      ],
      "metadata": {
        "colab": {
          "base_uri": "https://localhost:8080/"
        },
        "id": "STyzPEgXmWZt",
        "outputId": "43e37646-4e1b-48ab-8040-248d11df9385"
      },
      "execution_count": 276,
      "outputs": [
        {
          "output_type": "stream",
          "name": "stderr",
          "text": [
            "/usr/local/lib/python3.10/dist-packages/ipykernel/ipkernel.py:283: DeprecationWarning: `should_run_async` will not call `transform_cell` automatically in the future. Please pass the result to `transformed_cell` argument and any exception that happen during thetransform in `preprocessing_exc_tuple` in IPython 7.17 and above.\n",
            "  and should_run_async(code)\n"
          ]
        }
      ]
    },
    {
      "cell_type": "code",
      "source": [
        "test_game = make_go_env()\n",
        "\n",
        "get_human_move(test_game)"
      ],
      "metadata": {
        "colab": {
          "base_uri": "https://localhost:8080/"
        },
        "id": "OUYEmHc8mvej",
        "outputId": "4d67e6c2-1456-4d40-b59a-af427be35dae"
      },
      "execution_count": 277,
      "outputs": [
        {
          "output_type": "stream",
          "name": "stderr",
          "text": [
            "/usr/local/lib/python3.10/dist-packages/gym/utils/passive_env_checker.py:20: UserWarning: \u001b[33mWARN: It seems a Box observation space is an image but the `dtype` is not `np.uint8`, actual type: float32. If the Box observation space is not an image, we recommend flattening the observation to have only a 1D vector.\u001b[0m\n",
            "  logger.warn(\n",
            "/usr/local/lib/python3.10/dist-packages/gym/utils/passive_env_checker.py:25: UserWarning: \u001b[33mWARN: It seems a Box observation space is an image but the upper and lower bounds are not in [0, 255]. Generally, CNN policies assume observations are within that range, so you may encounter an issue if the observation values are not.\u001b[0m\n",
            "  logger.warn(\n",
            "/usr/local/lib/python3.10/dist-packages/gym/core.py:317: DeprecationWarning: \u001b[33mWARN: Initializing wrapper in old step API which returns one bool instead of two. It is recommended to set `new_step_api=True` to use new step API. This will be the default behaviour in future.\u001b[0m\n",
            "  deprecation(\n",
            "/usr/local/lib/python3.10/dist-packages/gym/wrappers/step_api_compatibility.py:39: DeprecationWarning: \u001b[33mWARN: Initializing environment in old step API which returns one bool instead of two. It is recommended to set `new_step_api=True` to use new step API. This will be the default behaviour in future.\u001b[0m\n",
            "  deprecation(\n",
            "/usr/local/lib/python3.10/dist-packages/gym/utils/passive_env_checker.py:174: UserWarning: \u001b[33mWARN: Future gym versions will require that `Env.reset` can be passed a `seed` instead of using `Env.seed` for resetting the environment random number generator.\u001b[0m\n",
            "  logger.warn(\n",
            "/usr/local/lib/python3.10/dist-packages/gym/utils/passive_env_checker.py:190: UserWarning: \u001b[33mWARN: Future gym versions will require that `Env.reset` can be passed `return_info` to return information from the environment resetting.\u001b[0m\n",
            "  logger.warn(\n",
            "/usr/local/lib/python3.10/dist-packages/gym/utils/passive_env_checker.py:195: UserWarning: \u001b[33mWARN: Future gym versions will require that `Env.reset` can be passed `options` to allow the environment initialisation to be passed additional information.\u001b[0m\n",
            "  logger.warn(\n",
            "/usr/local/lib/python3.10/dist-packages/gym/utils/passive_env_checker.py:141: UserWarning: \u001b[33mWARN: The obs returned by the `reset()` method was expecting numpy array dtype to be float32, actual type: float64\u001b[0m\n",
            "  logger.warn(\n",
            "/usr/local/lib/python3.10/dist-packages/gym/utils/passive_env_checker.py:165: UserWarning: \u001b[33mWARN: The obs returned by the `reset()` method is not within the observation space.\u001b[0m\n",
            "  logger.warn(f\"{pre} is not within the observation space.\")\n"
          ]
        },
        {
          "name": "stdout",
          "output_type": "stream",
          "text": [
            "Enter y: -1, x: -1 for pass\n",
            "y: -1\n",
            "x: -1\n"
          ]
        }
      ]
    },
    {
      "cell_type": "code",
      "source": [
        "game = make_go_env()\n",
        "white = 1\n",
        "\n",
        "while (not game.game_ended()):\n",
        "\n",
        "    if white:  # if it's white's turn, let the agent play\n",
        "        print(\"=== Agent's Turn ===\")\n",
        "        root = node()\n",
        "        root.state = game\n",
        "        result = mcts_pred(root, game.game_ended(), white)\n",
        "        game.step(result)\n",
        "        game.render()\n",
        "    else:  # if it's black's turn, let the human play\n",
        "        print(\"=== Player's Turn ===\")\n",
        "        result = get_human_move(game)\n",
        "        game.step(result)\n",
        "        game.render()\n",
        "\n",
        "    white ^= 1\n",
        "\n",
        "winner = game.winner()\n",
        "if winner == 1:\n",
        "    print(\"Black wins!\")\n",
        "elif winner == -1:\n",
        "    print(\"White wins!\")\n",
        "else:\n",
        "    print(\"Draw!\")"
      ],
      "metadata": {
        "colab": {
          "base_uri": "https://localhost:8080/",
          "height": 1000
        },
        "id": "bji-t0iLoop_",
        "outputId": "429cb42d-98f7-4fed-87e6-17d361cc212f"
      },
      "execution_count": 278,
      "outputs": [
        {
          "output_type": "stream",
          "name": "stdout",
          "text": [
            "=== Agent's Turn ===\n"
          ]
        },
        {
          "output_type": "stream",
          "name": "stderr",
          "text": [
            "/content/GymGo/gym_go/state_utils.py:166: DeprecationWarning: Please use `label` from the `scipy.ndimage` namespace, the `scipy.ndimage.measurements` namespace is deprecated.\n",
            "  all_opp_groups, _ = ndimage.measurements.label(state[opponent])\n",
            "/usr/local/lib/python3.10/dist-packages/gym/utils/passive_env_checker.py:227: DeprecationWarning: \u001b[33mWARN: Core environment is written in old step API which returns one bool instead of two. It is recommended to rewrite the environment with new step API. \u001b[0m\n",
            "  logger.deprecation(\n",
            "/usr/local/lib/python3.10/dist-packages/gym/utils/passive_env_checker.py:234: UserWarning: \u001b[33mWARN: Expects `done` signal to be a boolean, actual type: <class 'int'>\u001b[0m\n",
            "  logger.warn(\n",
            "/usr/local/lib/python3.10/dist-packages/gym/utils/passive_env_checker.py:141: UserWarning: \u001b[33mWARN: The obs returned by the `step()` method was expecting numpy array dtype to be float32, actual type: float64\u001b[0m\n",
            "  logger.warn(\n",
            "/usr/local/lib/python3.10/dist-packages/gym/utils/passive_env_checker.py:165: UserWarning: \u001b[33mWARN: The obs returned by the `step()` method is not within the observation space.\u001b[0m\n",
            "  logger.warn(f\"{pre} is not within the observation space.\")\n",
            "/content/GymGo/gym_go/gogame.py:283: DeprecationWarning: Please use `label` from the `scipy.ndimage` namespace, the `scipy.ndimage.measurements` namespace is deprecated.\n",
            "  empty_labels, num_empty_areas = ndimage.measurements.label(empties)\n",
            "/usr/local/lib/python3.10/dist-packages/gym/core.py:49: DeprecationWarning: \u001b[33mWARN: You are calling render method, but you didn't specified the argument render_mode at environment initialization. To maintain backward compatibility, the environment will render in human mode.\n",
            "If you want to render in human mode, initialize the environment in this way: gym.make('EnvName', render_mode='human') and don't call the render method.\n",
            "See here for more information: https://www.gymlibrary.ml/content/api/\u001b[0m\n",
            "  deprecation(\n",
            "/usr/local/lib/python3.10/dist-packages/gym/utils/passive_env_checker.py:280: UserWarning: \u001b[33mWARN: No render modes was declared in the environment (env.metadata['render_modes'] is None or not defined), you may have trouble when calling `.render()`.\u001b[0m\n",
            "  logger.warn(\n"
          ]
        },
        {
          "output_type": "stream",
          "name": "stdout",
          "text": [
            "\t0 1 2 3 4 5 6 \n",
            "0\t╔═╤═╤═╤═╤═╤═╗\n",
            "1\t╟─┼─┼─┼─┼─┼─╢\n",
            "2\t╟─┼─┼─┼─┼─┼─╢\n",
            "3\t╟─┼─┼─┼─┼─○─╢\n",
            "4\t╟─┼─┼─┼─┼─┼─╢\n",
            "5\t╟─┼─┼─┼─┼─┼─╢\n",
            "6\t╚═╧═╧═╧═╧═╧═╝\n",
            "\tTurn: WHITE, Game State (ONGOING|PASSED|END): ONGOING\n",
            "\tBlack Area: 49, White Area: 0\n",
            "\n",
            "=== Player's Turn ===\n",
            "Enter y: -1, x: -1 for pass\n",
            "y: -1\n",
            "x: -1\n",
            "\t0 1 2 3 4 5 6 \n",
            "0\t╔═╤═╤═╤═╤═╤═╗\n",
            "1\t╟─┼─┼─┼─┼─┼─╢\n",
            "2\t╟─┼─┼─┼─┼─┼─╢\n",
            "3\t╟─┼─┼─┼─┼─○─╢\n",
            "4\t╟─┼─┼─┼─┼─┼─╢\n",
            "5\t╟─┼─┼─┼─┼─┼─╢\n",
            "6\t╚═╧═╧═╧═╧═╧═╝\n",
            "\tTurn: BLACK, Game State (ONGOING|PASSED|END): PASSED\n",
            "\tBlack Area: 49, White Area: 0\n",
            "\n",
            "=== Agent's Turn ===\n",
            "\t0 1 2 3 4 5 6 \n",
            "0\t╔═╤═╤═╤═╤═╤═╗\n",
            "1\t╟─┼─┼─┼─┼─┼─╢\n",
            "2\t╟─┼─┼─┼─┼─┼─╢\n",
            "3\t╟─┼─○─┼─┼─○─╢\n",
            "4\t╟─┼─┼─┼─┼─┼─╢\n",
            "5\t╟─┼─┼─┼─┼─┼─╢\n",
            "6\t╚═╧═╧═╧═╧═╧═╝\n",
            "\tTurn: WHITE, Game State (ONGOING|PASSED|END): ONGOING\n",
            "\tBlack Area: 49, White Area: 0\n",
            "\n",
            "=== Player's Turn ===\n",
            "Enter y: -1, x: -1 for pass\n",
            "y: 2\n",
            "x: \n",
            "Invalid move\n",
            "Enter y: -1, x: -1 for pass\n",
            "y: 2\n",
            "x: 5\n",
            "\t0 1 2 3 4 5 6 \n",
            "0\t╔═╤═╤═╤═╤═╤═╗\n",
            "1\t╟─┼─┼─┼─┼─┼─╢\n",
            "2\t╟─┼─┼─┼─┼─●─╢\n",
            "3\t╟─┼─○─┼─┼─○─╢\n",
            "4\t╟─┼─┼─┼─┼─┼─╢\n",
            "5\t╟─┼─┼─┼─┼─┼─╢\n",
            "6\t╚═╧═╧═╧═╧═╧═╝\n",
            "\tTurn: BLACK, Game State (ONGOING|PASSED|END): ONGOING\n",
            "\tBlack Area: 2, White Area: 1\n",
            "\n",
            "=== Agent's Turn ===\n",
            "\t0 1 2 3 4 5 6 \n",
            "0\t╔═╤═╤═╤═╤═╤═╗\n",
            "1\t╟─┼─┼─┼─┼─┼─╢\n",
            "2\t╟─┼─┼─┼─┼─●─╢\n",
            "3\t╟─┼─○─┼─┼─○─╢\n",
            "4\t╟─┼─┼─┼─┼─┼─╢\n",
            "5\t○─┼─┼─┼─┼─┼─╢\n",
            "6\t╚═╧═╧═╧═╧═╧═╝\n",
            "\tTurn: WHITE, Game State (ONGOING|PASSED|END): ONGOING\n",
            "\tBlack Area: 3, White Area: 1\n",
            "\n",
            "=== Player's Turn ===\n",
            "Enter y: -1, x: -1 for pass\n"
          ]
        },
        {
          "output_type": "error",
          "ename": "KeyboardInterrupt",
          "evalue": "ignored",
          "traceback": [
            "\u001b[0;31m---------------------------------------------------------------------------\u001b[0m",
            "\u001b[0;31mKeyboardInterrupt\u001b[0m                         Traceback (most recent call last)",
            "\u001b[0;32m<ipython-input-278-8fa803f1258f>\u001b[0m in \u001b[0;36m<cell line: 4>\u001b[0;34m()\u001b[0m\n\u001b[1;32m     13\u001b[0m     \u001b[0;32melse\u001b[0m\u001b[0;34m:\u001b[0m  \u001b[0;31m# if it's black's turn, let the human play\u001b[0m\u001b[0;34m\u001b[0m\u001b[0;34m\u001b[0m\u001b[0m\n\u001b[1;32m     14\u001b[0m         \u001b[0mprint\u001b[0m\u001b[0;34m(\u001b[0m\u001b[0;34m\"=== Player's Turn ===\"\u001b[0m\u001b[0;34m)\u001b[0m\u001b[0;34m\u001b[0m\u001b[0;34m\u001b[0m\u001b[0m\n\u001b[0;32m---> 15\u001b[0;31m         \u001b[0mresult\u001b[0m \u001b[0;34m=\u001b[0m \u001b[0mget_human_move\u001b[0m\u001b[0;34m(\u001b[0m\u001b[0mgame\u001b[0m\u001b[0;34m)\u001b[0m\u001b[0;34m\u001b[0m\u001b[0;34m\u001b[0m\u001b[0m\n\u001b[0m\u001b[1;32m     16\u001b[0m         \u001b[0mgame\u001b[0m\u001b[0;34m.\u001b[0m\u001b[0mstep\u001b[0m\u001b[0;34m(\u001b[0m\u001b[0mresult\u001b[0m\u001b[0;34m)\u001b[0m\u001b[0;34m\u001b[0m\u001b[0;34m\u001b[0m\u001b[0m\n\u001b[1;32m     17\u001b[0m         \u001b[0mgame\u001b[0m\u001b[0;34m.\u001b[0m\u001b[0mrender\u001b[0m\u001b[0;34m(\u001b[0m\u001b[0;34m)\u001b[0m\u001b[0;34m\u001b[0m\u001b[0;34m\u001b[0m\u001b[0m\n",
            "\u001b[0;32m<ipython-input-276-6ab8e30ef4e0>\u001b[0m in \u001b[0;36mget_human_move\u001b[0;34m(go_env)\u001b[0m\n\u001b[1;32m      6\u001b[0m   \u001b[0;32mwhile\u001b[0m \u001b[0;32mTrue\u001b[0m\u001b[0;34m:\u001b[0m\u001b[0;34m\u001b[0m\u001b[0;34m\u001b[0m\u001b[0m\n\u001b[1;32m      7\u001b[0m     \u001b[0mprint\u001b[0m\u001b[0;34m(\u001b[0m\u001b[0;34m\"Enter y: -1, x: -1 for pass\"\u001b[0m\u001b[0;34m)\u001b[0m\u001b[0;34m\u001b[0m\u001b[0;34m\u001b[0m\u001b[0m\n\u001b[0;32m----> 8\u001b[0;31m     \u001b[0my\u001b[0m \u001b[0;34m=\u001b[0m \u001b[0minput\u001b[0m\u001b[0;34m(\u001b[0m\u001b[0;34m'y: '\u001b[0m\u001b[0;34m)\u001b[0m\u001b[0;34m\u001b[0m\u001b[0;34m\u001b[0m\u001b[0m\n\u001b[0m\u001b[1;32m      9\u001b[0m     \u001b[0mx\u001b[0m \u001b[0;34m=\u001b[0m \u001b[0minput\u001b[0m\u001b[0;34m(\u001b[0m\u001b[0;34m'x: '\u001b[0m\u001b[0;34m)\u001b[0m\u001b[0;34m\u001b[0m\u001b[0;34m\u001b[0m\u001b[0m\n\u001b[1;32m     10\u001b[0m     \u001b[0;32mtry\u001b[0m\u001b[0;34m:\u001b[0m\u001b[0;34m\u001b[0m\u001b[0;34m\u001b[0m\u001b[0m\n",
            "\u001b[0;32m/usr/local/lib/python3.10/dist-packages/ipykernel/kernelbase.py\u001b[0m in \u001b[0;36mraw_input\u001b[0;34m(self, prompt)\u001b[0m\n\u001b[1;32m    849\u001b[0m                 \u001b[0;34m\"raw_input was called, but this frontend does not support input requests.\"\u001b[0m\u001b[0;34m\u001b[0m\u001b[0;34m\u001b[0m\u001b[0m\n\u001b[1;32m    850\u001b[0m             )\n\u001b[0;32m--> 851\u001b[0;31m         return self._input_request(str(prompt),\n\u001b[0m\u001b[1;32m    852\u001b[0m             \u001b[0mself\u001b[0m\u001b[0;34m.\u001b[0m\u001b[0m_parent_ident\u001b[0m\u001b[0;34m,\u001b[0m\u001b[0;34m\u001b[0m\u001b[0;34m\u001b[0m\u001b[0m\n\u001b[1;32m    853\u001b[0m             \u001b[0mself\u001b[0m\u001b[0;34m.\u001b[0m\u001b[0m_parent_header\u001b[0m\u001b[0;34m,\u001b[0m\u001b[0;34m\u001b[0m\u001b[0;34m\u001b[0m\u001b[0m\n",
            "\u001b[0;32m/usr/local/lib/python3.10/dist-packages/ipykernel/kernelbase.py\u001b[0m in \u001b[0;36m_input_request\u001b[0;34m(self, prompt, ident, parent, password)\u001b[0m\n\u001b[1;32m    893\u001b[0m             \u001b[0;32mexcept\u001b[0m \u001b[0mKeyboardInterrupt\u001b[0m\u001b[0;34m:\u001b[0m\u001b[0;34m\u001b[0m\u001b[0;34m\u001b[0m\u001b[0m\n\u001b[1;32m    894\u001b[0m                 \u001b[0;31m# re-raise KeyboardInterrupt, to truncate traceback\u001b[0m\u001b[0;34m\u001b[0m\u001b[0;34m\u001b[0m\u001b[0m\n\u001b[0;32m--> 895\u001b[0;31m                 \u001b[0;32mraise\u001b[0m \u001b[0mKeyboardInterrupt\u001b[0m\u001b[0;34m(\u001b[0m\u001b[0;34m\"Interrupted by user\"\u001b[0m\u001b[0;34m)\u001b[0m \u001b[0;32mfrom\u001b[0m \u001b[0;32mNone\u001b[0m\u001b[0;34m\u001b[0m\u001b[0;34m\u001b[0m\u001b[0m\n\u001b[0m\u001b[1;32m    896\u001b[0m             \u001b[0;32mexcept\u001b[0m \u001b[0mException\u001b[0m \u001b[0;32mas\u001b[0m \u001b[0me\u001b[0m\u001b[0;34m:\u001b[0m\u001b[0;34m\u001b[0m\u001b[0;34m\u001b[0m\u001b[0m\n\u001b[1;32m    897\u001b[0m                 \u001b[0mself\u001b[0m\u001b[0;34m.\u001b[0m\u001b[0mlog\u001b[0m\u001b[0;34m.\u001b[0m\u001b[0mwarning\u001b[0m\u001b[0;34m(\u001b[0m\u001b[0;34m\"Invalid Message:\"\u001b[0m\u001b[0;34m,\u001b[0m \u001b[0mexc_info\u001b[0m\u001b[0;34m=\u001b[0m\u001b[0;32mTrue\u001b[0m\u001b[0;34m)\u001b[0m\u001b[0;34m\u001b[0m\u001b[0;34m\u001b[0m\u001b[0m\n",
            "\u001b[0;31mKeyboardInterrupt\u001b[0m: Interrupted by user"
          ]
        }
      ]
    }
  ]
}